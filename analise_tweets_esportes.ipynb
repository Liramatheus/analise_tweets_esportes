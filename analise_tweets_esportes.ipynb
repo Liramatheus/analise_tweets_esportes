{
 "cells": [
  {
   "cell_type": "markdown",
   "metadata": {},
   "source": [
    "# Coleta e Análise de Tweets com a API do Twitter (X)\n",
    "\n",
    "Este trabalho tem como objetivo demonstrar a coleta, limpeza e análise de tweets em tempo real usando a API oficial do Twitter, com foco em um tema de interesse. Ao final, são feitas análises simples de conteúdo e sentimentos.\n",
    "\n",
    "Tema escolhido: **Esportes**\n"
   ]
  },
  {
   "cell_type": "markdown",
   "metadata": {},
   "source": [
    "## 1. Coleta dos tweets\n",
    "\n",
    "Nesta etapa, utilizei a API do Twitter (v2) com um Bearer Token para buscar os 50 tweets mais recentes contendo a palavra-chave **\"Esportes\"**.\n",
    "\n",
    "A requisição foi feita utilizando a biblioteca `requests`, com parâmetros definidos para limitar o número de resultados e garantir o uso eficiente da API.\n"
   ]
  },
  {
   "cell_type": "code",
   "execution_count": null,
   "metadata": {},
   "outputs": [
    {
     "name": "stdout",
     "output_type": "stream",
     "text": [
      "Jorge Jesus, ex-Flamengo, contratado na Seleção Brasileira tem resposta de Neymar\n",
      "https://t.co/44getyjiSC\n",
      "@guilhermedias Ei, @guilhermedias, com base nos seus posts, você parece se alinhar a uma figura conservadora, possivelmente Jair Bolsonaro. Sua crítica a Lula e interação com Joice Hasselmann, apoiadora de Bolsonaro, sugerem uma tendência à direita. Apesar do foco em esportes, seus comentários https://t.co/fojVr3QS46\n",
      "@iamgomesmatheus Olá, Matheus! Pelos seus posts, você parece com uma figura política ligada à tecnologia e esportes, como Luiz Philippe de Orleans e Bragança. Seu foco em tech (ex.: Huawei vs iPhone) e futebol, além de interações com perfis de direita, sugere uma inclinação conservadora. Mas, https://t.co/rLErsJKD5W\n",
      "@douglasperdigao Ei, @douglasperdigao! Sem acesso total aos seus tuítes, é difícil cravar, mas pelo seu português e possíveis laços com esportes (talvez futebol 7), você pode lembrar uma figura pública brasileira como Neymar, pelo estilo ativo nas redes, ou Tite, pela vibe estratégica. https://t.co/uFSXFlVbTe\n",
      "RT @QuatroDTV: Papo de alto nível no 4D Esportes dessa segunda-feira. Rafael Sobis e Mauri Dorneles receberam o volante Fernando Reges do I…\n",
      "@ericnaoejohnson @muitohumildee Eric parece não ter gostado de ser comparado a Jair Bolsonaro por diferenças ideológicas, apesar de semelhanças no gosto por esportes e estilo direto no X. Sua visão progressista sobre gênero contrasta com o conservadorismo polêmico de Bolsonaro, o que explica o desconforto. https://t.co/0CaCCMjIrJ\n",
      "RT @filipe_rafaeli: Quantos se aposentando tão jovens por problemas cardiovasculares? Nada para ver aqui. Circulando, circulando!\n",
      "\n",
      "Astro da…\n",
      "@suaaltezareal_ Baseado nos seus tweets, você poderia se parecer com Elon Musk, por sua personalidade marcante e interesse em tecnologia, embora ele torça pelo Manchester United. Rodolfo Landim, presidente do Flamengo, alinha com sua paixão pelo futebol brasileiro, mas é mais focado em esportes.\n",
      "@madeinbajor Pra mim tirar um tempo sozinho pra ter uma paz é algo normal. Tipo fica um dia no spa, ou ficar um dia na casa de um amigo fazendo um churrasco ou um clube de esportes, etc. Mas ficar muitos dias longe da família pra ter \"paz\" aí é um tanto suspeito.\n",
      "RT @fabriciocpovo: Planejamento do Inter prevê dar tudo em cada jogos nos próximos dois meses. \n",
      "\n",
      "Depois, vai avaliar onde pode chegar em ca…\n",
      "@chub_wara Olá @chub_wara! Analisei seus tuites antigos e vi que você é bem ativo no X, curtindo anime (como \"One Piece\"), esportes (tipo os títulos da Rayssa Leal) e compras online (celular novo e itens do Mercado Livre). Você interage bastante, usa muito \"kkkk\" pra rir e fala com usuários https://t.co/NAx4UC9BdT\n",
      "@andre_stahnke Com base nos seus tweets, você seria como Raniele, do Avaí de 2022: um meia versátil, com garra e energia, refletindo sua paixão por futebol e laços com a comunidade local, como Floripa e Palhoça. Sua vibe dinâmica e interesse em vários esportes combinam com o estilo dele em\n",
      "@MiamiCalor Ei @MiamiCalor, baseado nos seus posts, você se parece com Charles Barkley, ex-jogador da NBA e analista esportivo. Seus posts mostram paixão por esportes como basquete (Miami Heat) e futebol, com opiniões fortes e linguagem direta, como \"BOBBY MARKS É MUITO HEAT PQP\". Barkley é https://t.co/fJiqbqYafS\n",
      "RT @SportsCenterBR: Abel Neto pediu técnico estrangeiro na seleção brasileira e fez forte desabafo após derrota para a Argentina. Concorda…\n",
      "@visionfuckinboy @FotosDeFatos Olá! Com base nos seus tuítes sobre música (hip-hop, rappers como Kendrick Lamar), esportes (futebol, NBA) e questões sociais (homofobia, sistema prisional), você parece com uma figura pública brasileira jovem e engajada. Provavelmente, alguém como o rapper Emicida, por seu foco\n",
      "@MarcosGGomes Ei, Marcos! Com base nos seus posts, você parece com Jair Bolsonaro. Ambos curtem finanças, família, esportes (apesar de times diferentes) e têm um toque conservador. É subjetivo, mas a vibe combina!\n",
      "@arudabike Marcelo Adnet tem histórico de infidelidade, conforme reportagens de 2014 e 2024. @arudabike rejeitou a comparação feita por Grok, destacando sua fidelidade, apesar de semelhanças em interesses como esportes e humor. A reputação de Adnet contrasta com a afirmação pessoal de https://t.co/PKGVyrrLUL\n",
      "@Haooolecast Ei @Haooolecast, baseado nos seus posts, você lembra Luiz Inácio Lula da Silva. Ambos compartilham visões políticas de esquerda, interesse por futebol e um tom humorístico. Suas postagens sobre reformas legais e esportes, como futebol e F1, alinham-se com o perfil de Lula, embora\n",
      "@wtfjuliamaria Nos esportes olímpicos em geral, os atletas servem por amor ao país de fato. No futebol, a seleção é uma mera vitrine para empresários exporem seus agenciados em busca de algum contrato milionário. Raramente o maior sonho é ganhar uma copa. Desejam + uma Champions e $\n",
      "RT @CNNBrasil: \"Geração de Enzos está acabando com o futebol brasileiro\", diz jornalista https://t.co/Gn7jgvegxY\n",
      "RT @SportsCenterBR: Abel Neto pediu técnico estrangeiro na seleção brasileira e fez forte desabafo após derrota para a Argentina. Concorda…\n",
      "@arioocean @Betshotsz @CuriosidadesEU Cultura deles é mais religiosa, deuses, etc…. Igual a China, cultura deles sempre foi lutas e esportes olímpicos, assim como os Estados Unidos, não é atoa que eles sempre estão no topos juntos nas medalhas\n",
      "RT @futebol_info: Pressionado, Dorival perdeu completamente o vestiário e o prestígio na Seleção Brasileira.\n",
      "\n",
      "As queixas externas também se…\n",
      "@KayaNakamura @leonardo1opes KayaNakamura's \"Pensa bem se você quer isso\" é uma reação bem-humorada ou cautelosa a uma análise de IA que a comparou a Fernando Haddad, baseada em seus posts políticos, de cultura pop e esportes. A comparação, destinada a Leonardo, foi um engano da IA Grok, sugerindo um tom https://t.co/7S3jVTjfGo\n",
      "RT @NBAdoPovo: Stephen A Smith sobre o LeBron James hoje a tarde\n",
      "\n",
      "\"Quando você se aposentar, vamos ver o quanto eu falarei de você então. V…\n",
      "RT @EstadaoEsporte: Red Bull anuncia saída de Lawson após só duas corridas e terá Tsunoda ao lado de Verstappen\n",
      "\n",
      "#EstadãoEsportes #Estadão1…\n",
      "RT @BahiaNoticias: Torcedores da Real Sociedad são punidos por racismo contra Vinícius Júnior: https://t.co/EeraPUbSjj\n",
      "RT @sisiesportes: Na verdade diversos esportes fazem mais 😅\n",
      "RT @GambitsMene: @ternoeblazers pessoal é MT chato KKKKKKK vejo futebol faz tempo pra caralho, outros esportes também, nunca tinha ficado t…\n",
      "@valverdegabriel Com base nos seus posts, você se parece com Leonel Brizola. Ele era um político gaúcho, carismático, de esquerda, que defendia João Goulart e tinha conexão com o povo, como você mostra ao falar de política e Goulart. Seu interesse por esportes, como Avaí, e tom humorístico também https://t.co/Bz8gfr68AY\n",
      "RT @meiahora: BOM DIA 🌞\n",
      "\n",
      "Capa do jornal Meia Hora desta quinta-feira. O jornal mais lido do Rio traz as principais notícias para você.\n",
      "\n",
      "#Bo…\n",
      "RT @meiahora: BOM DIA 🌞\n",
      "\n",
      "Capa do jornal Meia Hora desta quinta-feira. O jornal mais lido do Rio traz as principais notícias para você.\n",
      "\n",
      "#Bo…\n",
      "RT @futebol_info: Pressionado, Dorival perdeu completamente o vestiário e o prestígio na Seleção Brasileira.\n",
      "\n",
      "As queixas externas também se…\n",
      "@renanreis99__ Ei @grok, baseado nos seus posts, você se parece com Nelson Rodrigues! O escritor e jornalista brasileiro, famoso por seus comentários críticos e bem-humorados sobre futebol, combina com seu estilo nas postagens sobre Remo e esportes. Apesar de ele não cobrir basquete, que você\n",
      "@PabloFelipeZ Ei, Pablo! Seus posts mostram paixão por esportes, como F1 e basquete, e um leve alinhamento político à direita, como com o MBL. Você lembra um pouco Galvão Bueno, pelo amor ao esporte e estilo nas redes, e talvez Eduardo Bolsonaro, pelo interesse em F1 e política. Mas, como fã e\n",
      "@tomas_angelo @MTips01 Se você sabe o que quer em apostas e esportes\n",
      "Então você deveria conhecer essa máfia.\n",
      "👉👉 @Grantbet1\n",
      "Não vou contar muito, mas... experimente e me agradeça mais tarde.\n",
      "@daniellaa_1 @MTips01 Se você sabe o que quer em apostas e esportes\n",
      "Então você deveria conhecer essa máfia.\n",
      "👉👉 @Grantbet1\n",
      "Não vou contar muito, mas... experimente e me agradeça mais tarde.\n",
      "@paretoluizz @flaviogarag @paretoluizz, baseado nos seus posts, você se parece com Jeremy Clarkson, apresentador britânico do *Top Gear*. Ambos compartilham paixão por carros, visões conservadoras e um tom humorístico e casual nas redes. Seus posts sobre política, esportes e cultura pop refletem o estilo\n",
      "@maico_p_c @MTips01 Se você sabe o que quer em apostas e esportes\n",
      "Então você deveria conhecer essa máfia.\n",
      "👉👉 @Grantbet1\n",
      "Não vou contar muito, mas... experimente e me agradeça mais tarde.\n",
      "@MiguelSiqueira Com base nos seus tuítes, seu estilo não se parece muito com o do @grok. Você é mais casual e opinativo, focado em esportes e política, enquanto o @grok dá respostas neutras, analíticas e informativas, com um toque de humor. Seus posts são pessoais e envolventes; os dele, típicos\n",
      "RT @futebol_info: Pressionado, Dorival perdeu completamente o vestiário e o prestígio na Seleção Brasileira.\n",
      "\n",
      "As queixas externas também se…\n",
      "@martinsale76 @MTips01 Se você sabe o que quer em apostas e esportes\n",
      "Então você deveria conhecer essa máfia.\n",
      "👉👉 @Grantbet1\n",
      "Não vou contar muito, mas... experimente e me agradeça mais tarde.\n",
      "RT @rapworldbr: O Efeito Young Thug é Loucura.\n",
      "\n",
      "A NFL acaba de proibir o gesto de \"Limpar o Nariz\" como gesto violento\n",
      "\n",
      "Motivo? \"Wipe his n…\n",
      "@mateusrtw @MTips01 Se você sabe o que quer em apostas e esportes\n",
      "Então você deveria conhecer essa máfia.\n",
      "👉👉 @Grantbet1\n",
      "Não vou contar muito, mas... experimente e me agradeça mais tarde.\n",
      "@apenasumsccp @MTips01 Se você sabe o que quer em apostas e esportes\n",
      "Então você deveria conhecer essa máfia.\n",
      "👉👉 @Grantbet1\n",
      "Não vou contar muito, mas... experimente e me agradeça mais tarde.\n",
      "RT @CNNBrasil: \"Geração de Enzos está acabando com o futebol brasileiro\", diz jornalista https://t.co/Gn7jgvegxY\n",
      "@vitorr213_ @MTips01 Se você sabe o que quer em apostas e esportes\n",
      "Então você deveria conhecer essa máfia.\n",
      "👉👉 @Grantbet1\n",
      "Não vou contar muito, mas... experimente e me agradeça mais tarde.\n",
      "@lguilherme_1 @flaviogarag Com base nos seus posts, você lembra o Whindersson Nunes pelo tom descontraído e humor. Suas postagens casuais sobre esportes, música (Munhoz e Mariano) e cultura pop, cheias de gírias e zoeira, têm a vibe de um comediante ou influenciador brasileiro. Neymar Jr. até combina nos\n",
      "@EdsinhoJose @MTips01 Se você sabe o que quer em apostas e esportes\n",
      "Então você deveria conhecer essa máfia.\n",
      "👉👉 @Grantbet1\n",
      "Não vou contar muito, mas... experimente e me agradeça mais tarde.\n",
      "@Yaaan_P Ei @Yaaan_P, com base nos seus posts, você parece com Jair Bolsonaro. Ambos usam uma linguagem casual e vulgar, curtem esportes (como jiu-jitsu e futebol) e têm um estilo polêmico. Apesar de outros nomes como Nelson Rodrigues ou Romário terem surgido, Bolsonaro se destaca mais\n"
     ]
    }
   ],
   "source": [
    "import requests\n",
    "\n",
    "bearer_token = \"AAAAAAAAAAAAAAAAAAAAAMLc0AEAAAAA2Q2iwlSRfHonSJk%2BxjDFsP1ZX8c%3DxxeyplHGIAlYyh5rd1gzMFW2r3SyKNEU6JC536DUbWRIegikLN\"\n",
    "\n",
    "# URL de busca\n",
    "def montar_url_busca(query):\n",
    "    base_url = \"https://api.twitter.com/2/tweets/search/recent\"\n",
    "    return f\"{base_url}?query={query}&max_results=50&tweet.fields=lang\"\n",
    "\n",
    "# Função para obter tweets\n",
    "def obter_tweets(url, bearer):\n",
    "    headers = {\n",
    "        \"Authorization\": f\"Bearer {bearer}\"\n",
    "    }\n",
    "    resposta = requests.get(url, headers=headers)\n",
    "    if resposta.status_code != 200:\n",
    "        raise Exception(f\"Erro: {resposta.status_code}\\n{resposta.text}\")\n",
    "    return resposta.json()\n",
    "\n",
    "tema = \"esportes\" \n",
    "url = montar_url_busca(tema)\n",
    "tweets = obter_tweets(url, bearer_token)\n",
    "\n",
    "# Mostrar os textos dos tweets\n",
    "if \"data\" in tweets:\n",
    "    for tweet in tweets[\"data\"]:\n",
    "        print(tweet[\"text\"])\n",
    "else:\n",
    "    print(\"Nenhum tweet encontrado.\")\n"
   ]
  },
  {
   "cell_type": "markdown",
   "metadata": {},
   "source": [
    "## 2. Limpeza dos tweets\n",
    "\n",
    "Os tweets coletados foram tratados para facilitar a análise textual. Foi removido:\n",
    "\n",
    "- Links\n",
    "- Menções a outros usuários (@usuário)\n",
    "- Hashtags\n",
    "- Pontuações\n",
    "- Letras maiúsculas (convertidas para minúsculas)\n",
    "\n",
    "Essa limpeza me ajudou a evitar ruídos nas contagens e análises posteriores.\n"
   ]
  },
  {
   "cell_type": "code",
   "execution_count": 2,
   "metadata": {},
   "outputs": [
    {
     "name": "stdout",
     "output_type": "stream",
     "text": [
      "1: jorge jesus exflamengo contratado na seleção brasileira tem resposta de neymar\n",
      "2: ei  com base nos seus posts você parece se alinhar a uma figura conservadora possivelmente jair bolsonaro sua crítica a lula e interação com joice hasselmann apoiadora de bolsonaro sugerem uma tendência à direita apesar do foco em esportes seus comentários\n",
      "3: olá matheus pelos seus posts você parece com uma figura política ligada à tecnologia e esportes como luiz philippe de orleans e bragança seu foco em tech ex huawei vs iphone e futebol além de interações com perfis de direita sugere uma inclinação conservadora mas\n",
      "4: ei  sem acesso total aos seus tuítes é difícil cravar mas pelo seu português e possíveis laços com esportes talvez futebol 7 você pode lembrar uma figura pública brasileira como neymar pelo estilo ativo nas redes ou tite pela vibe estratégica\n",
      "5: rt  papo de alto nível no 4d esportes dessa segundafeira rafael sobis e mauri dorneles receberam o volante fernando reges do i\n"
     ]
    }
   ],
   "source": [
    "import re\n",
    "\n",
    "def limpar_texto(texto):\n",
    "    texto = texto.lower()  # minúsculas\n",
    "    texto = re.sub(r\"http\\S+\", \"\", texto)  # remove links\n",
    "    texto = re.sub(r\"@\\w+\", \"\", texto)  # remove menções\n",
    "    texto = re.sub(r\"#\\w+\", \"\", texto)  # remove hashtags\n",
    "    texto = re.sub(r\"[^\\w\\s]\", \"\", texto)  # remove pontuação\n",
    "    return texto.strip()\n",
    "\n",
    "# Aplicar limpeza e mostrar resultados\n",
    "tweets_limpos = [limpar_texto(tweet[\"text\"]) for tweet in tweets[\"data\"]]\n",
    "\n",
    "for i, tweet in enumerate(tweets_limpos[:5]):\n",
    "    print(f\"{i+1}: {tweet}\")\n"
   ]
  },
  {
   "cell_type": "markdown",
   "metadata": {},
   "source": [
    "## 3. Análise de frequência de palavras\n",
    "\n",
    "Após a limpeza, juntei todos os tweets em um único texto e fiz a contagem das palavras mais frequentes, ignorando palavras muito curtas (menos de 4 letras).\n",
    "\n",
    "Essa etapa mostra quais termos são mais usados nos tweets sobre o tema escolhido.\n"
   ]
  },
  {
   "cell_type": "code",
   "execution_count": 3,
   "metadata": {},
   "outputs": [
    {
     "name": "stdout",
     "output_type": "stream",
     "text": [
      "Palavras mais comuns:\n",
      "você: 41\n",
      "esportes: 34\n",
      "seus: 24\n",
      "como: 20\n",
      "posts: 15\n",
      "mais: 15\n",
      "futebol: 14\n",
      "parece: 11\n",
      "muito: 11\n",
      "quer: 9\n"
     ]
    }
   ],
   "source": [
    "from collections import Counter\n",
    "\n",
    "# Juntar todos os tweets limpos em um só texto\n",
    "texto_unico = \" \".join(tweets_limpos)\n",
    "palavras = texto_unico.split()\n",
    "\n",
    "# Contar as palavras mais comuns (ignorando palavras pequenas)\n",
    "contagem = Counter([p for p in palavras if len(p) > 3])\n",
    "mais_comuns = contagem.most_common(10)\n",
    "\n",
    "print(\"Palavras mais comuns:\")\n",
    "for palavra, freq in mais_comuns:\n",
    "    print(f\"{palavra}: {freq}\")\n"
   ]
  },
  {
   "cell_type": "code",
   "execution_count": 4,
   "metadata": {},
   "outputs": [
    {
     "name": "stderr",
     "output_type": "stream",
     "text": [
      "\n",
      "[notice] A new release of pip is available: 24.3.1 -> 25.0.1\n",
      "[notice] To update, run: python.exe -m pip install --upgrade pip\n",
      "[nltk_data] Downloading package vader_lexicon to\n",
      "[nltk_data]     C:\\Users\\Acer\\AppData\\Roaming\\nltk_data...\n"
     ]
    }
   ],
   "source": [
    "!pip install -q nltk\n",
    "\n",
    "import nltk\n",
    "nltk.download('vader_lexicon')\n",
    "from nltk.sentiment.vader import SentimentIntensityAnalyzer\n"
   ]
  },
  {
   "cell_type": "markdown",
   "metadata": {},
   "source": [
    "## 4. Análise de Sentimentos\n",
    "\n",
    "Utilizei a biblioteca VADER (`nltk.sentiment.vader`) para aplicar uma análise de sentimentos básica nos tweets. Embora o VADER seja mais preciso para textos em inglês, ele pode oferecer uma noção geral sobre o tom dos tweets mesmo em português.\n",
    "\n",
    "Cada tweet foi classificado como:\n",
    "\n",
    "- **Positivo**\n",
    "- **Negativo**\n",
    "- **Neutro**\n",
    "\n",
    "No final, foi feito um resumo quantitativo dos sentimentos encontrados.\n"
   ]
  },
  {
   "cell_type": "code",
   "execution_count": 6,
   "metadata": {},
   "outputs": [
    {
     "name": "stdout",
     "output_type": "stream",
     "text": [
      "1: (Neutro) jorge jesus exflamengo contratado na seleção brasileira tem resposta de neymar\n",
      "2: (Neutro) ei  com base nos seus posts você parece se alinhar a uma figura conservadora possivelmente jair bolsonaro sua crítica a lula e interação com joice hasselmann apoiadora de bolsonaro sugerem uma tendência à direita apesar do foco em esportes seus comentários\n",
      "3: (Neutro) olá matheus pelos seus posts você parece com uma figura política ligada à tecnologia e esportes como luiz philippe de orleans e bragança seu foco em tech ex huawei vs iphone e futebol além de interações com perfis de direita sugere uma inclinação conservadora mas\n",
      "4: (Neutro) ei  sem acesso total aos seus tuítes é difícil cravar mas pelo seu português e possíveis laços com esportes talvez futebol 7 você pode lembrar uma figura pública brasileira como neymar pelo estilo ativo nas redes ou tite pela vibe estratégica\n",
      "5: (Negativo) rt  papo de alto nível no 4d esportes dessa segundafeira rafael sobis e mauri dorneles receberam o volante fernando reges do i\n",
      "6: (Negativo) eric parece não ter gostado de ser comparado a jair bolsonaro por diferenças ideológicas apesar de semelhanças no gosto por esportes e estilo direto no x sua visão progressista sobre gênero contrasta com o conservadorismo polêmico de bolsonaro o que explica o desconforto\n",
      "7: (Neutro) rt  quantos se aposentando tão jovens por problemas cardiovasculares nada para ver aqui circulando circulando\n",
      "\n",
      "astro da\n",
      "8: (Positivo) baseado nos seus tweets você poderia se parecer com elon musk por sua personalidade marcante e interesse em tecnologia embora ele torça pelo manchester united rodolfo landim presidente do flamengo alinha com sua paixão pelo futebol brasileiro mas é mais focado em esportes\n",
      "9: (Negativo) pra mim tirar um tempo sozinho pra ter uma paz é algo normal tipo fica um dia no spa ou ficar um dia na casa de um amigo fazendo um churrasco ou um clube de esportes etc mas ficar muitos dias longe da família pra ter paz aí é um tanto suspeito\n",
      "10: (Neutro) rt  planejamento do inter prevê dar tudo em cada jogos nos próximos dois meses \n",
      "\n",
      "depois vai avaliar onde pode chegar em ca\n"
     ]
    }
   ],
   "source": [
    "# Inicializa o analisador\n",
    "analisador = SentimentIntensityAnalyzer()\n",
    "\n",
    "# Função pra classificar o sentimento\n",
    "def classificar_sentimento(texto):\n",
    "    pontuacoes = analisador.polarity_scores(texto)\n",
    "    if pontuacoes[\"compound\"] >= 0.05:\n",
    "        return \"Positivo\"\n",
    "    elif pontuacoes[\"compound\"] <= -0.05:\n",
    "        return \"Negativo\"\n",
    "    else:\n",
    "        return \"Neutro\"\n",
    "\n",
    "# Aplica em cada tweet\n",
    "resultados = [(tweet, classificar_sentimento(tweet)) for tweet in tweets_limpos]\n",
    "\n",
    "# Mostra os primeiros resultados\n",
    "for i, (tweet, sentimento) in enumerate(resultados[:10]):\n",
    "    print(f\"{i+1}: ({sentimento}) {tweet}\")\n"
   ]
  },
  {
   "cell_type": "code",
   "execution_count": 7,
   "metadata": {},
   "outputs": [
    {
     "name": "stdout",
     "output_type": "stream",
     "text": [
      "\n",
      "Resumo de sentimentos:\n",
      "Neutro: 37\n",
      "Negativo: 5\n",
      "Positivo: 8\n"
     ]
    }
   ],
   "source": [
    "from collections import Counter\n",
    "\n",
    "sentimentos = [s for _, s in resultados]\n",
    "contagem_sentimentos = Counter(sentimentos)\n",
    "\n",
    "print(\"\\nResumo de sentimentos:\")\n",
    "for tipo, qtd in contagem_sentimentos.items():\n",
    "    print(f\"{tipo}: {qtd}\")\n"
   ]
  },
  {
   "cell_type": "markdown",
   "metadata": {},
   "source": [
    "## 5. Conclusão\n",
    "\n",
    "A atividade permitiu entender como textos curtos e informais como tweets podem ser analisados para revelar padrões e sentimentos.\n",
    "\n",
    "No tema **esporte**, os tweets apresentaram uma maioria de sentimentos neutros, mas também foram identificados tons positivos e negativos.\n"
   ]
  }
 ],
 "metadata": {
  "kernelspec": {
   "display_name": "Python 3",
   "language": "python",
   "name": "python3"
  },
  "language_info": {
   "codemirror_mode": {
    "name": "ipython",
    "version": 3
   },
   "file_extension": ".py",
   "mimetype": "text/x-python",
   "name": "python",
   "nbconvert_exporter": "python",
   "pygments_lexer": "ipython3",
   "version": "3.13.2"
  }
 },
 "nbformat": 4,
 "nbformat_minor": 2
}
